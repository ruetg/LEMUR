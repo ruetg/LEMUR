{
 "cells": [
  {
   "cell_type": "code",
   "execution_count": 2,
   "id": "heated-pencil",
   "metadata": {},
   "outputs": [],
   "source": [
    "using Pkg"
   ]
  },
  {
   "cell_type": "code",
   "execution_count": 6,
   "id": "enabling-scotland",
   "metadata": {},
   "outputs": [
    {
     "name": "stderr",
     "output_type": "stream",
     "text": [
      "┌ Info: Precompiling MAT [23992714-dd62-5051-b70f-ba57cb901cac]\n",
      "└ @ Base loading.jl:1273\n"
     ]
    }
   ],
   "source": [
    "using MAT"
   ]
  },
  {
   "cell_type": "code",
   "execution_count": 19,
   "id": "stuck-engineer",
   "metadata": {},
   "outputs": [
    {
     "name": "stdout",
     "output_type": "stream",
     "text": [
      "\u001b[32m\u001b[1m Resolving\u001b[22m\u001b[39m package versions...\n",
      "\u001b[32m\u001b[1m Installed\u001b[22m\u001b[39m IdentityRanges ──────────── v0.3.1\n",
      "\u001b[32m\u001b[1m Installed\u001b[22m\u001b[39m ImageTransformations ────── v0.8.8\n",
      "\u001b[32m\u001b[1m Installed\u001b[22m\u001b[39m Rotations ───────────────── v1.0.2\n",
      "\u001b[32m\u001b[1m Installed\u001b[22m\u001b[39m CoordinateTransformations ─ v0.6.1\n"
     ]
    },
    {
     "name": "stderr",
     "output_type": "stream",
     "text": [
      "tar: Failed to set default locale\n",
      "tar: Failed to set default locale\n",
      "tar: Failed to set default locale\n",
      "tar: Failed to set default locale\n"
     ]
    },
    {
     "name": "stdout",
     "output_type": "stream",
     "text": [
      "\u001b[32m\u001b[1m  Updating\u001b[22m\u001b[39m `~/.julia/environments/v1.3/Project.toml`\n",
      " \u001b[90m [02fcd773]\u001b[39m\u001b[92m + ImageTransformations v0.8.8\u001b[39m\n",
      "\u001b[32m\u001b[1m  Updating\u001b[22m\u001b[39m `~/.julia/environments/v1.3/Manifest.toml`\n",
      " \u001b[90m [150eb455]\u001b[39m\u001b[92m + CoordinateTransformations v0.6.1\u001b[39m\n",
      " \u001b[90m [bbac6d45]\u001b[39m\u001b[92m + IdentityRanges v0.3.1\u001b[39m\n",
      " \u001b[90m [02fcd773]\u001b[39m\u001b[92m + ImageTransformations v0.8.8\u001b[39m\n",
      " \u001b[90m [6038ab10]\u001b[39m\u001b[92m + Rotations v1.0.2\u001b[39m\n"
     ]
    }
   ],
   "source": [
    "Pkg.add(\"ImageTransformations\")"
   ]
  },
  {
   "cell_type": "code",
   "execution_count": 20,
   "id": "banner-death",
   "metadata": {},
   "outputs": [
    {
     "name": "stderr",
     "output_type": "stream",
     "text": [
      "┌ Info: Precompiling ImageTransformations [02fcd773-0e25-5acc-982a-7f6622650795]\n",
      "└ @ Base loading.jl:1273\n"
     ]
    }
   ],
   "source": [
    "using ImageTransformations"
   ]
  },
  {
   "cell_type": "code",
   "execution_count": 7,
   "id": "aboriginal-theater",
   "metadata": {},
   "outputs": [
    {
     "data": {
      "text/plain": [
       "MAT.MAT_v5.Matlabv5File(IOStream(<file data/nz_topo.mat>), false, #undef)"
      ]
     },
     "execution_count": 7,
     "metadata": {},
     "output_type": "execute_result"
    }
   ],
   "source": [
    "file = matopen(\"data/nz_topo.mat\")"
   ]
  },
  {
   "cell_type": "code",
   "execution_count": 44,
   "id": "consolidated-sheriff",
   "metadata": {},
   "outputs": [],
   "source": [
    "z=read(file,\"z\");"
   ]
  },
  {
   "cell_type": "code",
   "execution_count": 45,
   "id": "neural-translation",
   "metadata": {},
   "outputs": [],
   "source": [
    "z = imresize(z,300,300)\n",
    "z .= z.*.01\n",
    "z[z.==0] .= NaN;"
   ]
  },
  {
   "cell_type": "code",
   "execution_count": 46,
   "id": "forbidden-anime",
   "metadata": {},
   "outputs": [
    {
     "data": {
      "text/html": [
       "<iframe scrolling=\"no\" id=\"71dcaf78-0603-4e10-8a55-f2ddc0aaf28d\" data-jscall-id=\"337\" src=\"http://127.0.0.1:9284/71dcaf78-0603-4e10-8a55-f2ddc0aaf28d\" style=\"position: absolute; width: 100%; height: 100%; padding: 0; overflow: hidden; border: none\"></iframe>\n"
      ]
     },
     "execution_count": 46,
     "metadata": {},
     "output_type": "execute_result"
    }
   ],
   "source": [
    "using AbstractPlotting, WGLMakie\n",
    "AbstractPlotting.inline!(true)\n",
    "surface(z,colormap = Reverse(:redsblues),clims = [-1,1])"
   ]
  },
  {
   "cell_type": "code",
   "execution_count": null,
   "id": "massive-conviction",
   "metadata": {},
   "outputs": [],
   "source": []
  }
 ],
 "metadata": {
  "kernelspec": {
   "display_name": "Julia 1.3.1",
   "language": "julia",
   "name": "julia-1.3"
  },
  "language_info": {
   "file_extension": ".jl",
   "mimetype": "application/julia",
   "name": "julia",
   "version": "1.3.1"
  }
 },
 "nbformat": 4,
 "nbformat_minor": 5
}
