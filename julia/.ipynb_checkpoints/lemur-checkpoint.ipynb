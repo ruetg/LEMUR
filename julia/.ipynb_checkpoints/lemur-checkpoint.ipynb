{
 "cells": [
  {
   "cell_type": "code",
   "execution_count": 3,
   "metadata": {},
   "outputs": [
    {
     "name": "stderr",
     "output_type": "stream",
     "text": [
      "WARNING: replacing module IsoFlex.\n"
     ]
    },
    {
     "data": {
      "text/plain": [
       "Main.IsoFlex"
      ]
     },
     "execution_count": 3,
     "metadata": {},
     "output_type": "execute_result"
    }
   ],
   "source": [
    "import Pkg\n",
    "using Cxx\n",
    "using Libdl\n",
    "using FFTW\n",
    "using PyPlot\n",
    "include(\"/Users/gr_1/Documents/IsoFlex/IsoFlex.jl\")"
   ]
  },
  {
   "cell_type": "code",
   "execution_count": 4,
   "metadata": {},
   "outputs": [],
   "source": [
    "pw = pwd() * \"/../src/\"\n",
    "Libdl.dlopen(pw * \"liblemur\", Libdl.RTLD_GLOBAL)\n",
    "cxxinclude(pw * \"lemur.h\")"
   ]
  },
  {
   "cell_type": "code",
   "execution_count": 5,
   "metadata": {},
   "outputs": [
    {
     "data": {
      "text/plain": [
       "get_lemur (generic function with 1 method)"
      ]
     },
     "execution_count": 5,
     "metadata": {},
     "output_type": "execute_result"
    }
   ],
   "source": [
    "function set_lemur(maker, nm, var)\n",
    "    if length(var) > 1\n",
    "        var = vec(var)\n",
    "        x = convert(cxxt\"double *\",pointer(var));\n",
    "        @cxx maker -> set(pointer(nm), x, length(var))\n",
    "        \n",
    "    else\n",
    "        x = convert(cxxt\"double\",var);\n",
    "        try\n",
    "            @cxx maker -> set(pointer(nm), x)\n",
    "        catch\n",
    "            print(string(\"invalid param\", nm))\n",
    "        end\n",
    "    end\n",
    "    return\n",
    "\n",
    "end\n",
    "\n",
    "function get_lemur(maker, nm, ny, nx)\n",
    "    y = @cxx maker -> get(pointer(nm))\n",
    "    z = unsafe_wrap(Array,pointer(y),ny*nx)\n",
    "    z = reshape(z,ny,nx)\n",
    "    return z\n",
    "end\n",
    "\n"
   ]
  },
  {
   "cell_type": "code",
   "execution_count": 6,
   "metadata": {},
   "outputs": [],
   "source": [
    "mutable struct lemur_obj\n",
    "    k\n",
    "    undercapacity\n",
    "    z\n",
    "    dx\n",
    "    dy\n",
    "    t\n",
    "    dt\n",
    "    display\n",
    "    Udt\n",
    "    flex\n",
    "    kd\n",
    "    m\n",
    "    n\n",
    "    bc\n",
    "    wdt\n",
    "    firstcall\n",
    "    u\n",
    "    udt\n",
    "    ny\n",
    "    nx\n",
    "    deposit\n",
    "    srho\n",
    "    drawdt\n",
    "    l\n",
    "    ks\n",
    "    sinkfill\n",
    "    uselandsed\n",
    "    maxareasinkfill\n",
    "    precip\n",
    "    evaprate\n",
    "    k_sed\n",
    "    lemur_obj() = new()\n",
    "    \n",
    "end"
   ]
  },
  {
   "cell_type": "code",
   "execution_count": 7,
   "metadata": {},
   "outputs": [
    {
     "data": {
      "text/plain": [
       "lemur_obj(#undef, #undef, #undef, #undef, #undef, #undef, #undef, #undef, #undef, #undef, #undef, #undef, #undef, #undef, #undef, #undef, #undef, #undef, #undef, #undef, #undef, #undef, #undef, #undef, #undef, #undef, #undef, #undef, #undef, #undef, #undef)"
      ]
     },
     "execution_count": 7,
     "metadata": {},
     "output_type": "execute_result"
    }
   ],
   "source": [
    "lemur_params = lemur_obj()"
   ]
  },
  {
   "cell_type": "code",
   "execution_count": 8,
   "metadata": {},
   "outputs": [
    {
     "ename": "UndefVarError",
     "evalue": "UndefVarError: AbstractPlotting not defined",
     "output_type": "error",
     "traceback": [
      "UndefVarError: AbstractPlotting not defined",
      "",
      "Stacktrace:",
      " [1] top-level scope at In[8]:1"
     ]
    }
   ],
   "source": [
    "AbstractPlotting.inline!(true) "
   ]
  },
  {
   "cell_type": "code",
   "execution_count": 9,
   "metadata": {},
   "outputs": [
    {
     "data": {
      "text/plain": [
       "100000"
      ]
     },
     "execution_count": 9,
     "metadata": {},
     "output_type": "execute_result"
    }
   ],
   "source": [
    "lemur_params.ny = 2000\n",
    "lemur_params.nx = 2000\n",
    "lemur_params.z = rand(lemur_params.ny,lemur_params.nx);\n",
    "lemur_params.display = 1\n",
    "lemur_params.udt = 100000\n",
    "lemur_params.flex = 20e3\n",
    "lemur_params.deposit = false\n",
    "lemur_params.bc = zeros(lemur_params.ny,lemur_params.nx)\n",
    "lemur_params.bc[:, 1] .= 0\n",
    "lemur_params.bc[:, end] .= 0\n",
    "lemur_params.bc[1, :] .= 1\n",
    "lemur_params.bc[end, :] .= 0\n",
    "bcx = lemur_params.bc\n",
    "lemur_params.z[lemur_params.bc .== 1] .= 0\n",
    "lemur_params.bc = vec(lemur_params.bc)\n",
    "lemur_params.k_sed = 1e-6\n",
    "lemur_params.srho = 2400\n",
    "lemur_params.udt = 1e5\n",
    "lemur_params.bc = float(findall(lemur_params.bc .== 1))\n",
    "lemur_params.k = zeros(lemur_params.ny,lemur_params.nx) .+ 1e-5\n",
    "lemur_params.firstcall = 1\n",
    "lemur_params.l = 1\n",
    "lemur_params.evaprate = 1e-30\n",
    "lemur_params.maxareasinkfill = 1000000\n",
    "lemur_params.precip = 1\n",
    "lemur_params.kd = 1\n",
    "lemur_params.ks = 0\n",
    "lemur_params.dt = 2e5\n",
    "lemur_params.t = 1e6\n",
    "lemur_params.undercapacity = zeros(lemur_params.ny,lemur_params.nx)\n",
    "lemur_params.k_sed = lemur_params.k\n",
    "lemur_params.flex = 20e3\n",
    "lemur_params.dx = 100\n",
    "lemur_params.dy = 100\n",
    "lemur_params.m = .5\n",
    "lemur_params.n = 1\n",
    "lemur_params.u = 100000"
   ]
  },
  {
   "cell_type": "code",
   "execution_count": 38,
   "metadata": {},
   "outputs": [
    {
     "name": "stdout",
     "output_type": "stream",
     "text": [
      "k undercapacity z dx dy t dt display Udt  error flex kd m n bc wdt  error firstcall u udt ny nx deposit srho drawdt  error l ks sinkfill  error uselandsed  error maxareasinkfill precip evaprate k_sed t: parameter not founddisplay: parameter not foundflex: parameter not found1u: parameter not foundudt: parameter not foundny: parameter not foundnx: parameter not founddeposit: parameter not foundsrho: parameter not foundk_sed: parameter not found"
     ]
    },
    {
     "name": "stderr",
     "output_type": "stream",
     "text": [
      "WARNING: replacing module IsoFlex.\n"
     ]
    }
   ],
   "source": [
    "include(\"/Users/gr_1/Documents/IsoFlex/IsoFlex.jl\")\n",
    "model = @cxxnew lemur(lemur_params.ny,lemur_params.nx)\n",
    "for nm = fieldnames(lemur_obj)\n",
    "    print(string(nm,' '))\n",
    "    try\n",
    "        set_lemur(model, string(nm), getfield(lemur_params,nm))\n",
    "    catch\n",
    "        print(\" error \")\n",
    "    end\n",
    "end"
   ]
  },
  {
   "cell_type": "code",
   "execution_count": 39,
   "metadata": {},
   "outputs": [
    {
     "name": "stdout",
     "output_type": "stream",
     "text": [
      "z443261\n",
      "389007\n",
      "  3.298288 seconds (1.80 M allocations: 1.013 GiB, 1.22% gc time)\n",
      "z"
     ]
    },
    {
     "ename": "UndefVarError",
     "evalue": "UndefVarError: vlim not defined",
     "output_type": "error",
     "traceback": [
      "UndefVarError: vlim not defined",
      "",
      "Stacktrace:",
      " [1] lemur() at ./In[39]:25",
      " [2] top-level scope at In[39]:31"
     ]
    }
   ],
   "source": [
    "\n",
    "function lemur()\n",
    "z = get_lemur(model, \"z\", lemur_params.ny, lemur_params.nx)\n",
    "zi = zeros(size(z))\n",
    "flex = zeros(size(z))\n",
    "ero = zeros(size(z))\n",
    "\n",
    "for i =1:5\n",
    "\n",
    "    @time begin\n",
    "\n",
    "    @cxx model -> lakefill()\n",
    "    @cxx model -> erosion_fluvial()\n",
    "    z =  copy(get_lemur(model, \"z\", lemur_params.ny, lemur_params.nx))\n",
    "    zi = copy(z)\n",
    "\n",
    "    ero = copy(z .- zi)\n",
    "    z[bcx .== 0] .+= 10\n",
    "    IsoFlex.flexural(ero,dx=lemur_params.dx,dy=lemur_params.dy,Te=lemur_params.flex,buffer=200)\n",
    "    z[bcx .== 0] .+= flex[bcx .== 0]\n",
    "    set_lemur(model,\"z\", vec(z))\n",
    "    end\n",
    "\n",
    "    subplots(figsize=[5,5])\n",
    "    imshow(z)\n",
    "    colorbar()\n",
    "    println(\"1\")\n",
    "    \n",
    "end\n",
    "end\n",
    "lemur()"
   ]
  },
  {
   "cell_type": "code",
   "execution_count": 35,
   "metadata": {},
   "outputs": [
    {
     "name": "stderr",
     "output_type": "stream",
     "text": [
      "┌ Error: error handling request\n",
      "│   exception = (Base.IOError(\"stream is closed or unusable\", 0), Base.StackTraces.StackFrame[check_open at stream.jl:328 [inlined], uv_write_async(::Sockets.TCPSocket, ::Ptr{UInt8}, ::UInt64) at stream.jl:961, uv_write(::Sockets.TCPSocket, ::Ptr{UInt8}, ::UInt64) at stream.jl:924, unsafe_write(::Sockets.TCPSocket, ::Ptr{UInt8}, ::UInt64) at stream.jl:1007, unsafe_write at ConnectionPool.jl:171 [inlined], macro expansion at gcutils.jl:91 [inlined], write at io.jl:186 [inlined], closebody at Streams.jl:113 [inlined], closewrite(::HTTP.Streams.Stream{HTTP.Messages.Request,HTTP.ConnectionPool.Transaction{Sockets.TCPSocket}}) at Streams.jl:128, (::HTTP.Servers.var\"#13#14\"{JSServe.var\"#26#28\"{JSServe.Server},HTTP.ConnectionPool.Transaction{Sockets.TCPSocket},HTTP.Streams.Stream{HTTP.Messages.Request,HTTP.ConnectionPool.Transaction{Sockets.TCPSocket}}})() at task.jl:333])\n",
      "└ @ HTTP.Servers /Users/gr_1/.julia/packages/HTTP/IAI92/src/Servers.jl:373\n",
      "┌ Error: error handling request\n",
      "│   exception = (Base.IOError(\"stream is closed or unusable\", 0), Base.StackTraces.StackFrame[check_open at stream.jl:328 [inlined], uv_write_async(::Sockets.TCPSocket, ::Ptr{UInt8}, ::UInt64) at stream.jl:961, uv_write(::Sockets.TCPSocket, ::Ptr{UInt8}, ::UInt64) at stream.jl:924, unsafe_write(::Sockets.TCPSocket, ::Ptr{UInt8}, ::UInt64) at stream.jl:1007, unsafe_write at ConnectionPool.jl:171 [inlined], macro expansion at gcutils.jl:91 [inlined], write at io.jl:186 [inlined], closebody at Streams.jl:113 [inlined], closewrite(::HTTP.Streams.Stream{HTTP.Messages.Request,HTTP.ConnectionPool.Transaction{Sockets.TCPSocket}}) at Streams.jl:128, (::HTTP.Servers.var\"#13#14\"{JSServe.var\"#26#28\"{JSServe.Server},HTTP.ConnectionPool.Transaction{Sockets.TCPSocket},HTTP.Streams.Stream{HTTP.Messages.Request,HTTP.ConnectionPool.Transaction{Sockets.TCPSocket}}})() at task.jl:333])\n",
      "└ @ HTTP.Servers /Users/gr_1/.julia/packages/HTTP/IAI92/src/Servers.jl:373\n"
     ]
    }
   ],
   "source": [
    "AbstractPlotting.inline!(true)\n"
   ]
  },
  {
   "cell_type": "code",
   "execution_count": 34,
   "metadata": {},
   "outputs": [
    {
     "name": "stderr",
     "output_type": "stream",
     "text": [
      "┌ Error: error handling request\n",
      "│   exception = (Base.IOError(\"stream is closed or unusable\", 0), Base.StackTraces.StackFrame[check_open at stream.jl:328 [inlined], uv_write_async(::Sockets.TCPSocket, ::Ptr{UInt8}, ::UInt64) at stream.jl:961, uv_write(::Sockets.TCPSocket, ::Ptr{UInt8}, ::UInt64) at stream.jl:924, unsafe_write(::Sockets.TCPSocket, ::Ptr{UInt8}, ::UInt64) at stream.jl:1007, unsafe_write at ConnectionPool.jl:171 [inlined], macro expansion at gcutils.jl:91 [inlined], write at io.jl:186 [inlined], closebody at Streams.jl:113 [inlined], closewrite(::HTTP.Streams.Stream{HTTP.Messages.Request,HTTP.ConnectionPool.Transaction{Sockets.TCPSocket}}) at Streams.jl:128, (::HTTP.Servers.var\"#13#14\"{JSServe.var\"#26#28\"{JSServe.Server},HTTP.ConnectionPool.Transaction{Sockets.TCPSocket},HTTP.Streams.Stream{HTTP.Messages.Request,HTTP.ConnectionPool.Transaction{Sockets.TCPSocket}}})() at task.jl:333])\n",
      "└ @ HTTP.Servers /Users/gr_1/.julia/packages/HTTP/IAI92/src/Servers.jl:373\n"
     ]
    },
    {
     "data": {
      "text/html": [
       "<iframe scrolling=\"no\" id=\"42175fb2-14aa-4d50-80ff-d08dc1bc325e\" data-jscall-id=\"16\" src=\"http://127.0.0.1:9284/42175fb2-14aa-4d50-80ff-d08dc1bc325e\" style=\"position: absolute; width: 100%; height: 100%; padding: 0; overflow: hidden; border: none\"></iframe>\n"
      ]
     },
     "execution_count": 34,
     "metadata": {},
     "output_type": "execute_result"
    }
   ],
   "source": [
    "using AbstractPlotting, WGLMakie\n",
    "surface(z,colormap = Reverse(:Spectral))"
   ]
  },
  {
   "cell_type": "code",
   "execution_count": 11,
   "metadata": {},
   "outputs": [],
   "source": [
    "#g++ -target x86_64-apple-darwin -O3 -dynamiclib lemur.cpp -o liblemur.dylib"
   ]
  },
  {
   "cell_type": "code",
   "execution_count": null,
   "metadata": {},
   "outputs": [],
   "source": []
  }
 ],
 "metadata": {
  "kernelspec": {
   "display_name": "Julia 1.3.1",
   "language": "julia",
   "name": "julia-1.3"
  },
  "language_info": {
   "file_extension": ".jl",
   "mimetype": "application/julia",
   "name": "julia",
   "version": "1.3.1"
  }
 },
 "nbformat": 4,
 "nbformat_minor": 4
}
